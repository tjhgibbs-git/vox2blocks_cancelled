{
 "cells": [
  {
   "cell_type": "code",
   "execution_count": 7,
   "metadata": {},
   "outputs": [
    {
     "ename": "ModuleNotFoundError",
     "evalue": "No module named 'amulet_map_editor'",
     "output_type": "error",
     "traceback": [
      "\u001b[1;31m---------------------------------------------------------------------------\u001b[0m",
      "\u001b[1;31mModuleNotFoundError\u001b[0m                       Traceback (most recent call last)",
      "Cell \u001b[1;32mIn[7], line 11\u001b[0m\n\u001b[0;32m      4\u001b[0m \u001b[39mfrom\u001b[39;00m \u001b[39mpyvox\u001b[39;00m\u001b[39m.\u001b[39;00m\u001b[39mwriter\u001b[39;00m \u001b[39mimport\u001b[39;00m VoxWriter\n\u001b[0;32m      6\u001b[0m \u001b[39m# switch to amulet directory to import amulet packages\u001b[39;00m\n\u001b[0;32m      7\u001b[0m \u001b[39m# import os\u001b[39;00m\n\u001b[0;32m      8\u001b[0m \u001b[39m# os.chdir('C:/Users/tjhgi/Desktop/Gaming/MC/Mapping/Amulet')\u001b[39;00m\n\u001b[0;32m      9\u001b[0m \n\u001b[0;32m     10\u001b[0m \u001b[39m# import amulet_nbt\u001b[39;00m\n\u001b[1;32m---> 11\u001b[0m \u001b[39mimport\u001b[39;00m \u001b[39mamulet_map_editor\u001b[39;00m\n\u001b[0;32m     13\u001b[0m \u001b[39m# os.chdir('C:/Users/tjhgi/Desktop/Coding/2023/Mar23/vox2blocks')\u001b[39;00m\n",
      "\u001b[1;31mModuleNotFoundError\u001b[0m: No module named 'amulet_map_editor'"
     ]
    }
   ],
   "source": [
    "import numpy as np\n",
    "# import sys\n",
    "from pyvox.parser import VoxParser\n",
    "from pyvox.writer import VoxWriter\n",
    "\n",
    "# switch to amulet directory to import amulet packages\n",
    "# import os\n",
    "os.chdir('C:/Users/tjhgi/Desktop/Gaming/MC/Mapping/Amulet')\n",
    "\n",
    "import amulet_nbt\n",
    "import amulet_map_editor\n",
    "\n",
    "os.chdir('C:/Users/tjhgi/Desktop/Coding/2023/Mar23/vox2blocks')\n",
    "\n"
   ]
  },
  {
   "cell_type": "code",
   "execution_count": 4,
   "metadata": {},
   "outputs": [
    {
     "name": "stdout",
     "output_type": "stream",
     "text": [
      "Collecting amulet-map-editorNote: you may need to restart the kernel to use updated packages.\n"
     ]
    },
    {
     "name": "stderr",
     "output_type": "stream",
     "text": [
      "  error: subprocess-exited-with-error\n",
      "  \n",
      "  × python setup.py egg_info did not run successfully.\n",
      "  │ exit code: 1\n",
      "  ╰─> [8 lines of output]\n",
      "      Traceback (most recent call last):\n",
      "        File \"<string>\", line 2, in <module>\n",
      "        File \"<pip-setuptools-caller>\", line 34, in <module>\n",
      "        File \"C:\\Users\\tjhgi\\AppData\\Local\\Temp\\pip-install-lt2kxzch\\wxpython_5ab4d2c6cfd74f61aa6c2eb1cebbedca\\setup.py\", line 27, in <module>\n",
      "          from buildtools.config import Config, msg, opj, runcmd, canGetSOName, getSOName\n",
      "        File \"C:\\Users\\tjhgi\\AppData\\Local\\Temp\\pip-install-lt2kxzch\\wxpython_5ab4d2c6cfd74f61aa6c2eb1cebbedca\\buildtools\\config.py\", line 30, in <module>\n",
      "          from attrdict import AttrDict\n",
      "      ModuleNotFoundError: No module named 'attrdict'\n",
      "      [end of output]\n",
      "  \n",
      "  note: This error originates from a subprocess, and is likely not a problem with pip.\n",
      "error: metadata-generation-failed\n",
      "\n",
      "× Encountered error while generating package metadata.\n",
      "╰─> See above for output.\n",
      "\n",
      "note: This is an issue with the package mentioned above, not pip.\n",
      "hint: See above for details.\n"
     ]
    },
    {
     "name": "stdout",
     "output_type": "stream",
     "text": [
      "\n",
      "  Using cached amulet_map_editor-0.9.6-py3-none-any.whl (1.7 MB)\n",
      "Collecting wxPython~=4.1\n",
      "  Using cached wxPython-4.2.0.tar.gz (71.0 MB)\n",
      "  Preparing metadata (setup.py): started\n",
      "  Preparing metadata (setup.py): finished with status 'error'\n"
     ]
    }
   ],
   "source": [
    "pip install amulet-map-editor"
   ]
  },
  {
   "cell_type": "code",
   "execution_count": 8,
   "metadata": {},
   "outputs": [],
   "source": [
    "# read model into Vox class\n",
    "test_input = VoxParser('assets/smol.vox').parse()\n",
    "\n",
    "# get size of model\n",
    "size_list = test_input.models[0][0]\n",
    "\n",
    "x = size_list[0]\n",
    "y = size_list[1]\n",
    "z = size_list[2]\n"
   ]
  },
  {
   "cell_type": "code",
   "execution_count": 9,
   "metadata": {},
   "outputs": [
    {
     "name": "stdout",
     "output_type": "stream",
     "text": [
      "[Voxel(x=0, y=0, z=0, c=79), Voxel(x=1, y=1, z=0, c=79), Voxel(x=1, y=1, z=1, c=79)]\n"
     ]
    },
    {
     "data": {
      "text/plain": [
       "array([[[16.,  0.],\n",
       "        [ 0.,  0.]],\n",
       "\n",
       "       [[ 0.,  0.],\n",
       "        [16., 16.]]])"
      ]
     },
     "execution_count": 9,
     "metadata": {},
     "output_type": "execute_result"
    }
   ],
   "source": [
    "voxel_list = test_input.models[0][1]\n",
    "print(voxel_list)\n",
    "\n",
    "# create empty np array to take model values\n",
    "voxel_arr = np.zeros((x,y,z))\n",
    "for i in voxel_list:\n",
    "    voxx = i[0]\n",
    "    voxy = i[1]\n",
    "    voxz = i[2]\n",
    "    # flatten colours into 1-16 range for wool colours - 0 is empty\n",
    "    voxcol = i[3] % 16 + 1\n",
    "\n",
    "    voxel_arr[voxx, voxy, voxz] = voxcol\n",
    "\n",
    "voxel_arr"
   ]
  }
 ],
 "metadata": {
  "kernelspec": {
   "display_name": ".venv",
   "language": "python",
   "name": "python3"
  },
  "language_info": {
   "codemirror_mode": {
    "name": "ipython",
    "version": 3
   },
   "file_extension": ".py",
   "mimetype": "text/x-python",
   "name": "python",
   "nbconvert_exporter": "python",
   "pygments_lexer": "ipython3",
   "version": "3.11.2"
  },
  "orig_nbformat": 4
 },
 "nbformat": 4,
 "nbformat_minor": 2
}
